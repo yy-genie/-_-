{
  "nbformat": 4,
  "nbformat_minor": 0,
  "metadata": {
    "colab": {
      "provenance": [],
      "include_colab_link": true
    },
    "kernelspec": {
      "name": "python3",
      "display_name": "Python 3"
    },
    "language_info": {
      "name": "python"
    }
  },
  "cells": [
    {
      "cell_type": "markdown",
      "metadata": {
        "id": "view-in-github",
        "colab_type": "text"
      },
      "source": [
        "<a href=\"https://colab.research.google.com/github/yy-genie/Data_Analysis/blob/main/%EC%A7%84%EC%A3%BC_%EA%B9%80%ED%95%B4_%EA%B7%B8%EB%9E%98%ED%94%84.ipynb\" target=\"_parent\"><img src=\"https://colab.research.google.com/assets/colab-badge.svg\" alt=\"Open In Colab\"/></a>"
      ]
    },
    {
      "cell_type": "code",
      "execution_count": null,
      "metadata": {
        "id": "3YGJS21DNgDp"
      },
      "outputs": [],
      "source": [
        "import matplotlib.pyplot as plt\n",
        "import numpy as np"
      ]
    },
    {
      "cell_type": "code",
      "source": [
        "jinju = np.array([171, 31, 30, 63, 259])\n",
        "gimhae = np.array([92, 78, 14, 11, 371])\n",
        "x_range = np.array(['0-2','3-5','6-10','11-20','21+'])"
      ],
      "metadata": {
        "id": "u8VivAczNitk"
      },
      "execution_count": null,
      "outputs": []
    },
    {
      "cell_type": "code",
      "source": [
        "!sudo apt-get install -y fonts-nanum\n",
        "!sudo fc-cache -fv\n",
        "!rm ~/.cache/matplotlib -rf"
      ],
      "metadata": {
        "colab": {
          "base_uri": "https://localhost:8080/"
        },
        "id": "uB1nQyLlVcpc",
        "outputId": "00413573-8d58-4d9c-944a-e32f237e7704"
      },
      "execution_count": null,
      "outputs": [
        {
          "output_type": "stream",
          "name": "stdout",
          "text": [
            "Reading package lists... Done\n",
            "Building dependency tree... Done\n",
            "Reading state information... Done\n",
            "The following NEW packages will be installed:\n",
            "  fonts-nanum\n",
            "0 upgraded, 1 newly installed, 0 to remove and 45 not upgraded.\n",
            "Need to get 10.3 MB of archives.\n",
            "After this operation, 34.1 MB of additional disk space will be used.\n",
            "Get:1 http://archive.ubuntu.com/ubuntu jammy/universe amd64 fonts-nanum all 20200506-1 [10.3 MB]\n",
            "Fetched 10.3 MB in 1s (7,720 kB/s)\n",
            "debconf: unable to initialize frontend: Dialog\n",
            "debconf: (No usable dialog-like program is installed, so the dialog based frontend cannot be used. at /usr/share/perl5/Debconf/FrontEnd/Dialog.pm line 78, <> line 1.)\n",
            "debconf: falling back to frontend: Readline\n",
            "debconf: unable to initialize frontend: Readline\n",
            "debconf: (This frontend requires a controlling tty.)\n",
            "debconf: falling back to frontend: Teletype\n",
            "dpkg-preconfigure: unable to re-open stdin: \n",
            "Selecting previously unselected package fonts-nanum.\n",
            "(Reading database ... 123576 files and directories currently installed.)\n",
            "Preparing to unpack .../fonts-nanum_20200506-1_all.deb ...\n",
            "Unpacking fonts-nanum (20200506-1) ...\n",
            "Setting up fonts-nanum (20200506-1) ...\n",
            "Processing triggers for fontconfig (2.13.1-4.2ubuntu5) ...\n",
            "/usr/share/fonts: caching, new cache contents: 0 fonts, 1 dirs\n",
            "/usr/share/fonts/truetype: caching, new cache contents: 0 fonts, 3 dirs\n",
            "/usr/share/fonts/truetype/humor-sans: caching, new cache contents: 1 fonts, 0 dirs\n",
            "/usr/share/fonts/truetype/liberation: caching, new cache contents: 16 fonts, 0 dirs\n",
            "/usr/share/fonts/truetype/nanum: caching, new cache contents: 12 fonts, 0 dirs\n",
            "/usr/local/share/fonts: caching, new cache contents: 0 fonts, 0 dirs\n",
            "/root/.local/share/fonts: skipping, no such directory\n",
            "/root/.fonts: skipping, no such directory\n",
            "/usr/share/fonts/truetype: skipping, looped directory detected\n",
            "/usr/share/fonts/truetype/humor-sans: skipping, looped directory detected\n",
            "/usr/share/fonts/truetype/liberation: skipping, looped directory detected\n",
            "/usr/share/fonts/truetype/nanum: skipping, looped directory detected\n",
            "/var/cache/fontconfig: cleaning cache directory\n",
            "/root/.cache/fontconfig: not cleaning non-existent cache directory\n",
            "/root/.fontconfig: not cleaning non-existent cache directory\n",
            "fc-cache: succeeded\n"
          ]
        }
      ]
    },
    {
      "cell_type": "code",
      "source": [
        "!pip install --upgrade matplotlib\n",
        "!pip install --upgrade fonttools"
      ],
      "metadata": {
        "colab": {
          "base_uri": "https://localhost:8080/"
        },
        "id": "_M41Pep1XbsK",
        "outputId": "43f5fa7a-b76c-46e5-c1d1-f6471429232e"
      },
      "execution_count": null,
      "outputs": [
        {
          "output_type": "stream",
          "name": "stdout",
          "text": [
            "Requirement already satisfied: matplotlib in /usr/local/lib/python3.10/dist-packages (3.7.1)\n",
            "Collecting matplotlib\n",
            "  Downloading matplotlib-3.9.1-cp310-cp310-manylinux_2_17_x86_64.manylinux2014_x86_64.whl (8.3 MB)\n",
            "\u001b[2K     \u001b[90m━━━━━━━━━━━━━━━━━━━━━━━━━━━━━━━━━━━━━━━━\u001b[0m \u001b[32m8.3/8.3 MB\u001b[0m \u001b[31m28.5 MB/s\u001b[0m eta \u001b[36m0:00:00\u001b[0m\n",
            "\u001b[?25hRequirement already satisfied: contourpy>=1.0.1 in /usr/local/lib/python3.10/dist-packages (from matplotlib) (1.2.1)\n",
            "Requirement already satisfied: cycler>=0.10 in /usr/local/lib/python3.10/dist-packages (from matplotlib) (0.12.1)\n",
            "Requirement already satisfied: fonttools>=4.22.0 in /usr/local/lib/python3.10/dist-packages (from matplotlib) (4.53.1)\n",
            "Requirement already satisfied: kiwisolver>=1.3.1 in /usr/local/lib/python3.10/dist-packages (from matplotlib) (1.4.5)\n",
            "Requirement already satisfied: numpy>=1.23 in /usr/local/lib/python3.10/dist-packages (from matplotlib) (1.25.2)\n",
            "Requirement already satisfied: packaging>=20.0 in /usr/local/lib/python3.10/dist-packages (from matplotlib) (24.1)\n",
            "Requirement already satisfied: pillow>=8 in /usr/local/lib/python3.10/dist-packages (from matplotlib) (9.4.0)\n",
            "Requirement already satisfied: pyparsing>=2.3.1 in /usr/local/lib/python3.10/dist-packages (from matplotlib) (3.1.2)\n",
            "Requirement already satisfied: python-dateutil>=2.7 in /usr/local/lib/python3.10/dist-packages (from matplotlib) (2.8.2)\n",
            "Requirement already satisfied: six>=1.5 in /usr/local/lib/python3.10/dist-packages (from python-dateutil>=2.7->matplotlib) (1.16.0)\n",
            "Installing collected packages: matplotlib\n",
            "  Attempting uninstall: matplotlib\n",
            "    Found existing installation: matplotlib 3.7.1\n",
            "    Uninstalling matplotlib-3.7.1:\n",
            "      Successfully uninstalled matplotlib-3.7.1\n",
            "Successfully installed matplotlib-3.9.1\n",
            "Requirement already satisfied: fonttools in /usr/local/lib/python3.10/dist-packages (4.53.1)\n"
          ]
        }
      ]
    },
    {
      "cell_type": "code",
      "source": [
        "%matplotlib inline\n",
        "\n",
        "import matplotlib as mpl\n",
        "import matplotlib.pyplot as plt\n",
        "import matplotlib.font_manager as fm\n",
        "\n",
        "!apt-get update -qq\n",
        "!apt-get install fonts-nanum* -qq\n",
        "\n",
        "path = '/usr/share/fonts/truetype/nanum/NanumBarunGothic.ttf'\n",
        "font_name = fm.FontProperties(fname=path, size=10).get_name()\n",
        "print(font_name)\n",
        "plt.rc('font', family=font_name)\n",
        "\n",
        "# 한글 폰트 설정\n",
        "font_path = '/usr/share/fonts/truetype/nanum/NanumGothic.ttf'  # 시스템에 설치된 한글 폰트 경로\n",
        "fontprop = fm.FontProperties(fname=font_path)\n",
        "plt.rc('font', family=fontprop.get_name())\n",
        "\n",
        "# 유니코드 마이너스 기호 비활성화\n",
        "plt.rcParams['axes.unicode_minus'] = False\n",
        "\n",
        "# 폰트 설정 확인\n",
        "print(f\"Current font: {plt.rcParams['font.family']}\")\n",
        "print(f\"Unicode minus: {plt.rcParams['axes.unicode_minus']}\")"
      ],
      "metadata": {
        "colab": {
          "base_uri": "https://localhost:8080/",
          "height": 111
        },
        "id": "inAyl8dYWqEx",
        "outputId": "8f6241ab-d79f-4d71-8d75-47cd6971d28f"
      },
      "execution_count": null,
      "outputs": [
        {
          "output_type": "error",
          "ename": "SyntaxError",
          "evalue": "invalid syntax (<ipython-input-12-52d17df6fe67>, line 27)",
          "traceback": [
            "\u001b[0;36m  File \u001b[0;32m\"<ipython-input-12-52d17df6fe67>\"\u001b[0;36m, line \u001b[0;32m27\u001b[0m\n\u001b[0;31m    sudo apt-get install fonts-nanum\u001b[0m\n\u001b[0m         ^\u001b[0m\n\u001b[0;31mSyntaxError\u001b[0m\u001b[0;31m:\u001b[0m invalid syntax\n"
          ]
        }
      ]
    },
    {
      "cell_type": "code",
      "source": [
        "fm._rebuild()\n",
        "mpl.rcParams['axes.unicode_minus'] = False"
      ],
      "metadata": {
        "colab": {
          "base_uri": "https://localhost:8080/",
          "height": 166
        },
        "id": "8E1SYwy2XuxE",
        "outputId": "7d00d915-3ba5-4702-f423-7201b9a81a73"
      },
      "execution_count": null,
      "outputs": [
        {
          "output_type": "error",
          "ename": "AttributeError",
          "evalue": "module 'matplotlib.font_manager' has no attribute '_rebuild'",
          "traceback": [
            "\u001b[0;31m---------------------------------------------------------------------------\u001b[0m",
            "\u001b[0;31mAttributeError\u001b[0m                            Traceback (most recent call last)",
            "\u001b[0;32m<ipython-input-10-0385935516dc>\u001b[0m in \u001b[0;36m<cell line: 1>\u001b[0;34m()\u001b[0m\n\u001b[0;32m----> 1\u001b[0;31m \u001b[0mfm\u001b[0m\u001b[0;34m.\u001b[0m\u001b[0m_rebuild\u001b[0m\u001b[0;34m(\u001b[0m\u001b[0;34m)\u001b[0m\u001b[0;34m\u001b[0m\u001b[0;34m\u001b[0m\u001b[0m\n\u001b[0m\u001b[1;32m      2\u001b[0m \u001b[0mmpl\u001b[0m\u001b[0;34m.\u001b[0m\u001b[0mrcParams\u001b[0m\u001b[0;34m[\u001b[0m\u001b[0;34m'axes.unicode_minus'\u001b[0m\u001b[0;34m]\u001b[0m \u001b[0;34m=\u001b[0m \u001b[0;32mFalse\u001b[0m\u001b[0;34m\u001b[0m\u001b[0;34m\u001b[0m\u001b[0m\n",
            "\u001b[0;31mAttributeError\u001b[0m: module 'matplotlib.font_manager' has no attribute '_rebuild'"
          ]
        }
      ]
    },
    {
      "cell_type": "code",
      "source": [
        "import matplotlib.font_manager as fm\n",
        "import matplotlib as mp\n",
        "font_path = \"c:/Windows/Fonts/MALGUNSL.TTF\"\n",
        "font_name = fm.FontProperties(fname=font_path).get_name()\n",
        "mp.rc('font', family=font_name)\n"
      ],
      "metadata": {
        "id": "pLpX2TOcSDs6"
      },
      "execution_count": null,
      "outputs": []
    },
    {
      "cell_type": "code",
      "source": [
        "import matplotlib.pyplot as plt\n",
        "from matplotlib import font_manager, rc\n",
        "import platform\n",
        "\n",
        "# 한글 폰트 설정\n",
        "if platform.system() == 'Windows':\n",
        "    path = 'c:/Windows/Fonts/malgun.ttf'\n",
        "elif platform.system() == 'Darwin':  # MacOS\n",
        "    path = '/Library/Fonts/AppleGothic.ttf'\n",
        "else:\n",
        "    path = '/usr/share/fonts/truetype/nanum/NanumGothic.ttf'\n",
        "font_name = font_manager.FontProperties(fname=path).get_name()\n",
        "rc('font', family=font_name)\n",
        "\n",
        "# 음수 기호 설정\n",
        "plt.rcParams['axes.unicode_minus'] = False"
      ],
      "metadata": {
        "id": "c105SXI5TO2c"
      },
      "execution_count": null,
      "outputs": []
    },
    {
      "cell_type": "code",
      "source": [
        "# prompt: 저장된 넘파이 변수 3개와 x_range를 x축으로로 matplot 히스토그램과 꺽은선 그래프가 같이있는  그림 3개 그리기\n",
        "\n",
        "import matplotlib.pyplot as plt\n",
        "fig, axes = plt.subplots(nrows=1, ncols=3, figsize=(18, 5))\n",
        "\n",
        "plt.rc('font', family='NanumBarunGothic')\n",
        "\n",
        "axes[0].bar(x_range, yangsan)\n",
        "axes[0].plot(x_range, yangsan, color='r')\n",
        "axes[0].set_title(\"양산시\")\n",
        "\n",
        "axes[1].bar(x_range, geochang)\n",
        "axes[1].plot(x_range, geochang, color='r')\n",
        "axes[1].set_title(\"거창군\")\n",
        "\n",
        "axes[2].bar(x_range, haman)\n",
        "axes[2].plot(x_range, haman, color='r')\n",
        "axes[2].set_title(\"함안군\")\n",
        "\n",
        "plt.show()\n"
      ],
      "metadata": {
        "id": "snHApz4kN_TM"
      },
      "execution_count": null,
      "outputs": []
    },
    {
      "cell_type": "code",
      "source": [
        "# prompt: 위에 그래프 비율로 y축 해줘\n",
        "\n",
        "import matplotlib.pyplot as plt\n",
        "import numpy as np\n",
        "import matplotlib.font_manager as fm\n",
        "from matplotlib.ticker import PercentFormatter\n",
        "\n",
        "yangsan = np.array([32/327,5/327,44/327,23/327,223/327])\n",
        "geochang = np.array([284/437,45/437,12/437,4/437,92/437])\n",
        "haman = np.array([28/329,159/329,43/329,45/329,52/329])\n",
        "x_range = np.array(['0-2','3-5','6-10','11-20','21-'])\n",
        "\n",
        "[f.name for f in fm.fontManager.ttflist]\n",
        "\n",
        "fig, axes = plt.subplots(nrows=1, ncols=3, figsize=(18, 5))\n",
        "\n",
        "plt.rc(\"font\", family=\"NanumGothic\")\n",
        "\n",
        "axes[0].bar(x_range, yangsan)\n",
        "axes[0].plot(x_range, yangsan, color='r')\n",
        "axes[0].set_title(\"양산시\")\n",
        "axes[0].set_ylim(0, 1)\n",
        "axes[0].yaxis.set_major_formatter(PercentFormatter(xmax=1))\n",
        "\n",
        "axes[1].bar(x_range, geochang)\n",
        "axes[1].plot(x_range, geochang, color='r')\n",
        "axes[1].set_title(\"거창군\")\n",
        "axes[1].set_ylim(0, 1)\n",
        "axes[1].yaxis.set_major_formatter(PercentFormatter(xmax=1))\n",
        "\n",
        "axes[2].bar(x_range, haman)\n",
        "axes[2].plot(x_range, haman, color='r')\n",
        "axes[2].set_title(\"함안군\")\n",
        "axes[2].set_ylim(0, 1)\n",
        "plt.gca().yaxis.set_major_formatter(PercentFormatter(xmax=1))\n",
        "\n",
        "plt.show()\n"
      ],
      "metadata": {
        "id": "xpbf6E4-Qwsg"
      },
      "execution_count": null,
      "outputs": []
    },
    {
      "cell_type": "code",
      "source": [],
      "metadata": {
        "id": "iC5EE7nJYJtl"
      },
      "execution_count": null,
      "outputs": []
    }
  ]
}