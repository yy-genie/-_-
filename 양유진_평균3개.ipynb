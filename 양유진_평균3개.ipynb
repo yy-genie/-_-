{
 "cells": [
  {
   "cell_type": "code",
   "execution_count": null,
   "metadata": {},
   "outputs": [
    {
     "ename": "",
     "evalue": "",
     "output_type": "error",
     "traceback": [
      "\u001b[1;31mdll을 로드할 수 없어 kernel을 시작하지 못했습니다.\n",
      "\u001b[1;31m자세한 내용을 보려면 <a href='https://aka.ms/kernelFailuresDllLoad'>여기</a>를 클릭합니다."
     ]
    }
   ],
   "source": [
    "import pandas as pd\n",
    "import numpy as np\n",
    "import matplotlib.pyplot as plt"
   ]
  },
  {
   "cell_type": "code",
   "execution_count": null,
   "metadata": {},
   "outputs": [
    {
     "ename": "",
     "evalue": "",
     "output_type": "error",
     "traceback": [
      "\u001b[1;31mdll을 로드할 수 없어 kernel을 시작하지 못했습니다.\n",
      "\u001b[1;31m자세한 내용을 보려면 <a href='https://aka.ms/kernelFailuresDllLoad'>여기</a>를 클릭합니다."
     ]
    }
   ],
   "source": [
    "conda install -p c:\\Users\\PKNU\\anaconda3 ipykernel --update-deps --force-reinstall"
   ]
  },
  {
   "cell_type": "code",
   "execution_count": null,
   "metadata": {},
   "outputs": [
    {
     "ename": "",
     "evalue": "",
     "output_type": "error",
     "traceback": [
      "\u001b[1;31mdll을 로드할 수 없어 kernel을 시작하지 못했습니다.\n",
      "\u001b[1;31m자세한 내용을 보려면 <a href='https://aka.ms/kernelFailuresDllLoad'>여기</a>를 클릭합니다."
     ]
    }
   ],
   "source": [
    "df_hospital = pd.DataFrame(data)\n",
    "\n",
    "# \"진료과목내용명\" 열에 \"내과\"와 \"외과\"가 모두 포함된 행 필터링\n",
    "filtered_df = df_hospital[df_hospital['진료과목내용명'].str.contains('내과') & df_hospital['진료과목내용명'].str.contains('외과')]\n",
    "\n",
    "# 필터링된 데이터프레임을 CSV 파일로 저장\n",
    "filtered_df.to_csv('filtered_hospitals.csv', index=False)\n",
    "\n",
    "print(\"CSV 파일이 성공적으로 저장되었습니다.\")"
   ]
  },
  {
   "cell_type": "code",
   "execution_count": null,
   "metadata": {},
   "outputs": [
    {
     "ename": "",
     "evalue": "",
     "output_type": "error",
     "traceback": [
      "\u001b[1;31mdll을 로드할 수 없어 kernel을 시작하지 못했습니다.\n",
      "\u001b[1;31m자세한 내용을 보려면 <a href='https://aka.ms/kernelFailuresDllLoad'>여기</a>를 클릭합니다."
     ]
    }
   ],
   "source": [
    "import numpy as np\n",
    "print(np.__version__)\n"
   ]
  },
  {
   "cell_type": "code",
   "execution_count": null,
   "metadata": {},
   "outputs": [
    {
     "ename": "",
     "evalue": "",
     "output_type": "error",
     "traceback": [
      "\u001b[1;31mdll을 로드할 수 없어 kernel을 시작하지 못했습니다.\n",
      "\u001b[1;31m자세한 내용을 보려면 <a href='https://aka.ms/kernelFailuresDllLoad'>여기</a>를 클릭합니다."
     ]
    }
   ],
   "source": [
    "import chardet\n",
    "filename = r\"거창_병원.csv\" \n",
    "filename2 = r거창_경로당.csv\"\n",
    "with open(filename, 'rb') as rawdata:\n",
    "    result = chardet.detect(rawdata.read(1000))\n",
    "with open(filename2, 'rb') as rawdata:\n",
    "    result2 = chardet.detect(rawdata.read(1000))\n",
    "print(result['encoding'], result2['encoding'])"
   ]
  },
  {
   "cell_type": "code",
   "execution_count": null,
   "metadata": {},
   "outputs": [
    {
     "ename": "",
     "evalue": "",
     "output_type": "error",
     "traceback": [
      "\u001b[1;31mdll을 로드할 수 없어 kernel을 시작하지 못했습니다.\n",
      "\u001b[1;31m자세한 내용을 보려면 <a href='https://aka.ms/kernelFailuresDllLoad'>여기</a>를 클릭합니다."
     ]
    }
   ],
   "source": [
    "df_hospital = pd.read_csv('거창_병원.csv', encoding='EUC-KR')\n",
    "df_elderly = pd.read_csv('거창_경로당.csv', encoding='utf-8')"
   ]
  },
  {
   "cell_type": "code",
   "execution_count": null,
   "metadata": {},
   "outputs": [
    {
     "ename": "",
     "evalue": "",
     "output_type": "error",
     "traceback": [
      "\u001b[1;31mdll을 로드할 수 없어 kernel을 시작하지 못했습니다.\n",
      "\u001b[1;31m자세한 내용을 보려면 <a href='https://aka.ms/kernelFailuresDllLoad'>여기</a>를 클릭합니다."
     ]
    }
   ],
   "source": [
    "df_hospital"
   ]
  },
  {
   "cell_type": "code",
   "execution_count": null,
   "metadata": {},
   "outputs": [
    {
     "ename": "",
     "evalue": "",
     "output_type": "error",
     "traceback": [
      "\u001b[1;31mdll을 로드할 수 없어 kernel을 시작하지 못했습니다.\n",
      "\u001b[1;31m자세한 내용을 보려면 <a href='https://aka.ms/kernelFailuresDllLoad'>여기</a>를 클릭합니다."
     ]
    }
   ],
   "source": [
    "df_elderly"
   ]
  },
  {
   "cell_type": "code",
   "execution_count": null,
   "metadata": {},
   "outputs": [
    {
     "ename": "",
     "evalue": "",
     "output_type": "error",
     "traceback": [
      "\u001b[1;31mdll을 로드할 수 없어 kernel을 시작하지 못했습니다.\n",
      "\u001b[1;31m자세한 내용을 보려면 <a href='https://aka.ms/kernelFailuresDllLoad'>여기</a>를 클릭합니다."
     ]
    }
   ],
   "source": [
    "#하버사인 공식 이용\n",
    "\n",
    "import math\n",
    "\n",
    "def calculate_distance(elderly_lat, elderly_lon, hospital_lat, hospital_lon):\n",
    "    R = 6371  \n",
    "    dlat = math.radians(hospital_lat - elderly_lat)\n",
    "    dlon = math.radians(hospital_lon - elderly_lon)\n",
    "    a = math.sin(dlat / 2) ** 2 + math.cos(math.radians(elderly_lat)) * math.cos(math.radians(hospital_lat)) * math.sin(dlon / 2) ** 2\n",
    "    c = 2 * math.atan2(math.sqrt(a), math.sqrt(1 - a))\n",
    "    distance = R * c\n",
    "    return distance\n",
    "\n",
    "distances = []\n",
    "\n",
    "print(f\"df_elderly 크기: {df_elderly.shape}\")\n",
    "print(f\"df_hospital 크기: {df_hospital.shape}\")\n",
    "\n",
    "for i in range(len(df_elderly)):\n",
    "    elderly_name = df_elderly.loc[i, '경로당']\n",
    "    elderly_lat = df_elderly.loc[i, '위도']\n",
    "    elderly_lon = df_elderly.loc[i, '경도']\n",
    "\n",
    "    for j in range(len(df_hospital)):\n",
    "        hospital_name = df_hospital.loc[j, '사업장명']\n",
    "        hospital_lat = df_hospital.loc[j, '좌표정보(Y)']\n",
    "        hospital_lon = df_hospital.loc[j, '좌표정보(X)']\n",
    "\n",
    "        distance = calculate_distance(elderly_lat, elderly_lon, hospital_lat, hospital_lon)\n",
    "        distances.append({\n",
    "            '경로당': elderly_name,\n",
    "            '병원': hospital_name,\n",
    "            '거리': distance\n",
    "        })\n",
    "\n",
    "df_distances = pd.DataFrame(distances)\n",
    "\n",
    "for elderly_name in df_distances['경로당'].unique():\n",
    "    print(f\"{elderly_name}과 병원 간의 거리\")\n",
    "    print(df_distances[df_distances['경로당'] == elderly_name][['병원', '거리']])\n",
    "    print(\"\\n\")\n",
    "\n",
    "output_file_path = '경로당별_병원_거리.csv'\n",
    "df_distances.to_csv(output_file_path, index=False, encoding='euc-kr')"
   ]
  },
  {
   "cell_type": "code",
   "execution_count": null,
   "metadata": {},
   "outputs": [
    {
     "ename": "",
     "evalue": "",
     "output_type": "error",
     "traceback": [
      "\u001b[1;31mdll을 로드할 수 없어 kernel을 시작하지 못했습니다.\n",
      "\u001b[1;31m자세한 내용을 보려면 <a href='https://aka.ms/kernelFailuresDllLoad'>여기</a>를 클릭합니다."
     ]
    }
   ],
   "source": [
    "# 각 경로당별 가까운 5개의 병원 선택\n",
    "\n",
    "df_top5 = df_distances.groupby('경로당').apply(lambda x: x.nsmallest(3, '거리')).reset_index(drop=True)\n",
    "\n",
    "for elderly_name in df_top5['경로당'].unique():\n",
    "    print(f\"{elderly_name}과 병원 간의 가까운 3개 거리\")\n",
    "    print(df_top5[df_top5['경로당'] == elderly_name][['병원', '거리']])\n",
    "    print(\"\\n\")\n",
    "\n",
    "output_file_path_top5 = '경로당별_병원3개.csv'\n",
    "df_top5.to_csv(output_file_path_top5, index=False, encoding='euc-kr')"
   ]
  },
  {
   "cell_type": "code",
   "execution_count": null,
   "metadata": {},
   "outputs": [
    {
     "ename": "",
     "evalue": "",
     "output_type": "error",
     "traceback": [
      "\u001b[1;31mdll을 로드할 수 없어 kernel을 시작하지 못했습니다.\n",
      "\u001b[1;31m자세한 내용을 보려면 <a href='https://aka.ms/kernelFailuresDllLoad'>여기</a>를 클릭합니다."
     ]
    }
   ],
   "source": [
    "# 각 경로당별 가까운 5개의 병원 거리 평균 계산\n",
    "\n",
    "df_mean_distance = df_top5.groupby('경로당').agg(평균거리=('거리', 'mean')).reset_index()\n",
    "\n",
    "print(\"경로당별 병원 평균 거리\")\n",
    "print(df_mean_distance)\n",
    "\n",
    "output_file_path_mean = '경로당별_병원평균(3개)거리.csv'\n",
    "df_mean_distance.to_csv(output_file_path_mean, index=False, encoding='euc-kr')"
   ]
  },
  {
   "cell_type": "code",
   "execution_count": null,
   "metadata": {},
   "outputs": [
    {
     "ename": "",
     "evalue": "",
     "output_type": "error",
     "traceback": [
      "\u001b[1;31mdll을 로드할 수 없어 kernel을 시작하지 못했습니다.\n",
      "\u001b[1;31m자세한 내용을 보려면 <a href='https://aka.ms/kernelFailuresDllLoad'>여기</a>를 클릭합니다."
     ]
    }
   ],
   "source": [
    "from folium.plugins import MarkerCluster\n",
    "import base64\n",
    "import os\n",
    "import folium\n",
    "\n",
    "df_elderly = df_elderly.merge(df_mean_distance, on='경로당')\n",
    "m = folium.Map(location=[35.1796, 128.0816], zoom_start=12) \n",
    "marker_cluster = MarkerCluster().add_to(m)\n",
    "\n",
    "for idx, row in df_elderly.iterrows():\n",
    "    lat = row['위도']\n",
    "    lon = row['경도']\n",
    "    popup_text = f\"<b>{row['경로당']}</b><br>평균거리: {row['평균거리']:.2f} km\"\n",
    "\n",
    "    bar_html = \"\"\"\n",
    "    <div style=\"width: 100%; height: 20px; background-color: lightgrey;\">\n",
    "        <div style=\"width: {0}%; height: 100%; background-color: blue;\"></div>\n",
    "    </div>\n",
    "    \"\"\".format(row['평균거리'] / df_mean_distance['평균거리'].max() * 100)\n",
    "    \n",
    "    popup_content = f\"{popup_text}<br>{bar_html}\"\n",
    "    \n",
    "    folium.Marker(\n",
    "        location=[lat, lon],\n",
    "        popup=folium.Popup(popup_content, max_width=300),\n",
    "        icon=folium.Icon(color='blue', icon='info-sign')\n",
    "    ).add_to(marker_cluster)\n",
    "\n",
    "m.save('경로당별_평균(3개)거리_지도.html')"
   ]
  }
 ],
 "metadata": {
  "kernelspec": {
   "display_name": "base",
   "language": "python",
   "name": "python3"
  },
  "language_info": {
   "codemirror_mode": {
    "name": "ipython",
    "version": 3
   },
   "file_extension": ".py",
   "mimetype": "text/x-python",
   "name": "python",
   "nbconvert_exporter": "python",
   "pygments_lexer": "ipython3",
   "version": "3.9.13"
  }
 },
 "nbformat": 4,
 "nbformat_minor": 2
}
