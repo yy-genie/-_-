{
 "cells": [
  {
   "cell_type": "code",
   "execution_count": 2,
   "metadata": {},
   "outputs": [
    {
     "name": "stdout",
     "output_type": "stream",
     "text": [
      "결과 경로당별_병원평균거리_오차.csv\n"
     ]
    }
   ],
   "source": [
    "import pandas as pd\n",
    "\n",
    "# CSV 파일 경로\n",
    "file_path_3 = '경로당별_병원평균(3개)거리.csv'\n",
    "file_path_5 = '경로당별_병원평균(5개)거리.csv'\n",
    "\n",
    "# CSV 파일 불러오기\n",
    "df_3 = pd.read_csv(file_path_3, encoding='EUC-KR')\n",
    "df_5 = pd.read_csv(file_path_5, encoding='EUC-KR')\n",
    "\n",
    "# 경로당별로 평균거리 오차 계산\n",
    "df_3.rename(columns={'평균거리': '평균거리_3개'}, inplace=True)\n",
    "df_5.rename(columns={'평균거리': '평균거리_5개'}, inplace=True)\n",
    "\n",
    "df_merged = pd.merge(df_3, df_5, on='경로당')\n",
    "df_merged['거리오차'] = abs(df_merged['평균거리_3개'] - df_merged['평균거리_5개'])\n",
    "\n",
    "# 결과 CSV 파일로 저장\n",
    "output_file_path = '경로당별_병원평균거리_오차.csv'\n",
    "df_merged.to_csv(output_file_path, index=False, encoding='euc-kr')\n",
    "\n",
    "print(f\"결과 {output_file_path}\")"
   ]
  }
 ],
 "metadata": {
  "kernelspec": {
   "display_name": "base",
   "language": "python",
   "name": "python3"
  },
  "language_info": {
   "codemirror_mode": {
    "name": "ipython",
    "version": 3
   },
   "file_extension": ".py",
   "mimetype": "text/x-python",
   "name": "python",
   "nbconvert_exporter": "python",
   "pygments_lexer": "ipython3",
   "version": "3.8.5"
  }
 },
 "nbformat": 4,
 "nbformat_minor": 2
}
